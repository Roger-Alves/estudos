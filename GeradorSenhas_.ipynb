{
  "metadata": {
    "language_info": {
      "codemirror_mode": {
        "name": "python",
        "version": 3
      },
      "file_extension": ".py",
      "mimetype": "text/x-python",
      "name": "python",
      "nbconvert_exporter": "python",
      "pygments_lexer": "ipython3",
      "version": "3.8"
    },
    "kernelspec": {
      "name": "python",
      "display_name": "Python (Pyodide)",
      "language": "python"
    }
  },
  "nbformat_minor": 4,
  "nbformat": 4,
  "cells": [
    {
      "cell_type": "markdown",
      "source": "<h1>Gerador de Senha Segura</h1><hr>",
      "metadata": {}
    },
    {
      "cell_type": "markdown",
      "source": "<p>\n    Esse programa se baseia em uma atividade realizada diariamente por todos os usuários da internet mundial.<br>\n    O uso de <strong>senha segura</strong> tem sido muito lembrado quando o tema <em>Cibersegurança</em> está sendo abordado.<br>\n    Através do artigo <a href=\"https://www.kaspersky.com.br/resource-center/threats/how-to-create-a-strong-password\" target=\"_blank\">Senhas fortes: como criá-las e quais seus benefícios</a> publicado no site da empresa russa Kaspersky,<br>decidi usar algumas das dicas para criar o meu gerador de senhas.<br><br>\n</p>",
      "metadata": {}
    },
    {
      "cell_type": "markdown",
      "source": "<h2>Programa</h2>\n<hr>",
      "metadata": {}
    },
    {
      "cell_type": "code",
      "source": "from random import choice\nimport string\ncaracteres_disponiveis = string.ascii_letters + string.digits + string.punctuation\nsenha_gerada = ('')\n\nfor chacter in range (1, 13):\n    senha_gerada += choice(caracteres_disponiveis)\n\narquivo = open('password.txt', 'a')\narquivo.write(senha_gerada + '\\n')\narquivo.close()\n\nprint(f'Senha gerada com sucesso\\n{senha_gerada}')",
      "metadata": {
        "trusted": true
      },
      "execution_count": 8,
      "outputs": [
        {
          "name": "stdout",
          "text": "Senha gerada com sucesso\n:n15)<4+@lYL\n",
          "output_type": "stream"
        }
      ]
    },
    {
      "cell_type": "markdown",
      "source": "<h2>Dicas e verificações</h2><hr>",
      "metadata": {}
    },
    {
      "cell_type": "markdown",
      "source": "<ol>\n    <li type='none'><strong>1) Ela é longa? Tente usar pelo menos 10 ou 12 caracteres, ou o máximo possível.</strong></li>\n</ol>\n\n<p>\n    Nossas senhas possuem 12 caracteres e nos oferece opção para aumentar a quantidade se necessário.<br>\n    Vamos ver abaixo algumas das nossas senhas geradas:<br>\n\n    bz?IJ\"E\\MTt?\n    #f90cr6LwU8D\n    \nEntão, <strong>sim</strong>. A nossa senha é longa, possui 12 caracteres fixos, mas pode ser feita variação.\n</p>",
      "metadata": {}
    },
    {
      "cell_type": "markdown",
      "source": "<ol>\n    <li type='none'><strong>2) Ela é difícil de adivinhar?</strong></li>\n</ol>\n\n<p>\n    Sim. Usamos caracteres diversos e variados entre si para dificultar a memorização e evitar palavras comuns.\n</p>",
      "metadata": {}
    },
    {
      "cell_type": "markdown",
      "source": "<ol>\n    <li type='none'><strong>3) Ele tem tipos variados de caracteres?</strong></li>\n</ol>\n<p>\n    Sim. Usamos letras, números, pontuações e símbolos. Assim, tornamos a senha mais imprevisível.\n</p>",
      "metadata": {}
    },
    {
      "cell_type": "markdown",
      "source": "<ol>\n    <li type='none'><strong>4) Substituições óbvias de caracteres são evitadas? Por exemplo, usar o número zero \"0\" no lugar da letra \"O\".</strong></li>\n</ol>\n<p>\n    Esse algoritmo faz essa alteração, não como um humano faria entendendo que ele está usando um caractere substituindo outro.<br>\n    Por agir de forma extremamente literal, nosso algoritmo substitui caracteres de forma lógica e não racional. Ainda assim, é eficiente.\n</p>",
      "metadata": {}
    },
    {
      "cell_type": "markdown",
      "source": "<ol>\n    <li type='none'><strong>5) A senha usa combinações de palavras incomuns?</strong></li>\n</ol>\n<p>\n    O algoritmo faz o uso do código <strong>ASCII</strong> (<em>American Standard Code for Information Interchange ou ”Código Padrão Americano para o Intercâmbio de Informação”</em>). Usando a <strong>biblioteca string</strong> do <em>Python</em> importamos letras, números, pontuações e símbolos como já citado anteriormente.<br>\n    Essa utilização de forma automatizada dos caracteres, em geral, torna a nossa senha especial sendo ela incomum e improvável.\n</p>",
      "metadata": {}
    },
    {
      "cell_type": "markdown",
      "source": "<ol>\n    <li type='none'><strong>6) Você consegue memorizá-la?</strong></li>\n</ol>\n<p>\n    A princípio, temos dificuldade em memorizar as senhas geradas automaticamente. Ainda assim, senhas <em>semilegíveis</em> podem facilitar a memorização com o tempo. Por esse motivo, usamos aleatoriamente todos os caracteres durante a geração de senha.<br>\n    Se mantivermos senhas que dificultem a memorização e que não sejam semilegíveis, teremos maior chances de ter uma senha segura. É interessante também manter um gerenciador de senhas, assim, podendo evitar a troca constante de senha por esquecimento.\n</p>",
      "metadata": {}
    },
    {
      "cell_type": "markdown",
      "source": "<ol>\n    <li type='none'><strong>7) Você já usou a senha antes?</strong></li>\n</ol>\n<p>\n    Através do gerador de senhas, as chances de usar uma senha repetida é praticamente impossível. Devido a sua grande quantidade de caracteres disponíveis e a suas vastas possibilidades de combinações, podemos gerar com segurança senhas únicas.\n</p>",
      "metadata": {}
    },
    {
      "cell_type": "markdown",
      "source": "<ol>\n    <li type='none'><strong> 8) A senha apresenta uma regra difícil de ser adivinhada por computadores?</strong></li>\n</ol>\n<p>\n    <strong>Sim</strong>. Um computador poderia até trabalhar duro para tentar adivinhar a senha, mas, ele não adivinharia após termos seguido todas as etapas anteriores para poder gerar senhas fortemente seguras, podendo dar tranquilidade aos utilizadores.\n</p><br>",
      "metadata": {}
    },
    {
      "cell_type": "markdown",
      "source": "<h2>Considerações Finais</h2><hr>",
      "metadata": {}
    },
    {
      "cell_type": "markdown",
      "source": "<p>\n    Essa atividade pessoal unida as dicas oferecidas no artigo, me proporcionaram um bom estudo, e analise do que foi construído, procurando encontrar possíveis fraquezas, volatilidade durante o uso constante do gerador de senhas e se de alguma forma ele poderia ser útil e eficaz no que foi proposto a fazer.<br>\n    Apesar de sua simplicidade, acredito ter sido um programa que traz sucesso a solução do que foi proposto:<strong> gerar senhas seguras para qualquer tipo de usuário</strong>.<br>\n    Acrescentei por questões de aprendizado, um arquivo que salva de forma automática cada senha gerada após executar o programa. Claro, não é seguro, mas, com ajustes e criptografia, poderíamos manter neste programa um gerador e também gerenciador de senhas.<br>\n    Em todo caso, a segurança deve ser bem explorada, devem ser feitas analises robustas para uma possível aplicação.\n</p><br>\n\n<h5><em>Roger Rodrigo Alves - Estudante de Python, Análise de Dados e Ciência de Dados.</em></h5>",
      "metadata": {}
    },
    {
      "cell_type": "code",
      "source": "",
      "metadata": {},
      "execution_count": null,
      "outputs": []
    }
  ]
}